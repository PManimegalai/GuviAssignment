{
  "cells": [
    {
      "cell_type": "markdown",
      "metadata": {
        "id": "view-in-github",
        "colab_type": "text"
      },
      "source": [
        "<a href=\"https://colab.research.google.com/github/PManimegalai/GuviAssignment/blob/main/Copy_of_6_3_Python_Assignment.ipynb\" target=\"_parent\"><img src=\"https://colab.research.google.com/assets/colab-badge.svg\" alt=\"Open In Colab\"/></a>"
      ]
    },
    {
      "cell_type": "markdown",
      "metadata": {
        "id": "l0ZzOlyxB-kf"
      },
      "source": [
        "<h1>Python: without numpy or sklearn </h1>"
      ]
    },
    {
      "cell_type": "markdown",
      "metadata": {
        "id": "C0xO8JV9B-ki"
      },
      "source": [
        "<h3> Q1: Given two matrices please print the product of those two matrices </h3>\n",
        "<pre>\n",
        "\n",
        "Ex 1: A   = [[1 3 4]\n",
        "             [2 5 7]\n",
        "             [5 9 6]]\n",
        "      B   = [[1 0 0]\n",
        "             [0 1 0]\n",
        "             [0 0 1]]\n",
        "      A*B = [[1 3 4]\n",
        "             [2 5 7]\n",
        "             [5 9 6]]\n",
        "\n",
        "     \n",
        "Ex 2: A   = [[1 2]\n",
        "             [3 4]]\n",
        "      B   = [[1 2 3 4 5]\n",
        "             [5 6 7 8 9]]\n",
        "      A*B = [[11 14 17 20 23]\n",
        "             [23 30 37 44 51]]\n",
        "             \n",
        "Ex 3: A   = [[1 2]\n",
        "             [3 4]]\n",
        "      B   = [[1 4]\n",
        "             [5 6]\n",
        "             [7 8]\n",
        "             [9 6]]\n",
        "      A*B =Not possible\n",
        "</pre>"
      ]
    },
    {
      "cell_type": "code",
      "execution_count": null,
      "metadata": {
        "id": "rnssAfpgB-kj"
      },
      "outputs": [],
      "source": [
        "print(\"Matrix Multiplication\")\n",
        "print(\"Ex. 1 , 2, 3:\")\n",
        "print(\"Enter order of 1st matrix:\")\n",
        "m,n = list(map(int,input().split()))\n",
        "print(\"Enter Row wise values\")\n",
        "# empty list for 1st matrix\n",
        "mat1 = []\n",
        "# row wise insertion in the matrix\n",
        "for i in range(m):\n",
        "  print(\"Enter row\",i,\"value:\")\n",
        "  row = list(map(int,input().split()))\n",
        "  mat1.append(row)\n",
        "print(\"Enter order of 2nd matrix:\")\n",
        "p,q = list(map(int,input().split()))\n",
        "print(\"Enter Row wise values\")\n",
        "# empty list for 2nd matrix\n",
        "mat2 = []\n",
        "# row wise insertion in the matrix\n",
        "for j in range(p):\n",
        "  print(\"Enter row\",j,\"value:\")\n",
        "  row = list(map(int,input().split()))\n",
        "  mat2.append(row)\n",
        "print(\"Matrix 1:\",mat1)\n",
        "print(\"Matrix 2:\",mat2)\n",
        "resultant = []\n",
        "# create a 0-matrix of order m x q\n",
        "for i in range(m):\n",
        "  row = []\n",
        "  for j in range(q):\n",
        "    row.append(0)\n",
        "  resultant.append(row)\n",
        "print(\"Matrix Multiplication: \")\n",
        "# perform matrix multiplication\n",
        "# using nested for loops\n",
        "for i in range(m):\n",
        "  for j in range(q):\n",
        "    for k in range(n):\n",
        "      resultant[i][j] += mat1[i][k] * mat2[k][j]\n",
        "for row in resultant:\n",
        "  print(row)\n"
      ]
    },
    {
      "cell_type": "markdown",
      "metadata": {
        "id": "D1xQy2WWB-kq"
      },
      "source": [
        "<h3> Q2: Replace the digits in the string with #</h3>\n",
        "\n",
        "consider a string that will have digits in that, we need to remove all the not digits and replace the digits with #\n",
        "<pre>\n",
        "Ex 1: A = 234                Output: ###\n",
        "Ex 2: A = a2b3c4             Output: ###\n",
        "Ex 3: A = abc                Output:   (empty string)\n",
        "Ex 5: A = #2a$#b%c%561#      Output: ####\n",
        "</pre>"
      ]
    },
    {
      "cell_type": "code",
      "execution_count": null,
      "metadata": {
        "id": "fxczi2jzB-kr"
      },
      "outputs": [],
      "source": [
        "import re\n",
        "# write your python code here\n",
        "# you can take the above example as sample input for your program to test\n",
        "# it should work for any general input try not to hard code for only given input examples\n",
        "# try to complete this question using regular expressions\n",
        "# you can free to change all these codes/structure\n",
        "# String: it will be the input to your program\n",
        "# https://www.w3schools.com/python/python_regex.asp\n",
        "\n",
        "def replace_digits(String):\n",
        "    # write your code\n",
        "    # \n",
        "    return() # modified string which is after replacing the # with digits\n",
        "\n"
      ]
    },
    {
      "cell_type": "code",
      "source": [
        "A='#2a$#b%c%561#'\n",
        "print(\"The original value:\" +str(A))\n",
        "K='#'\n",
        "digits=\"0123456789\"\n",
        "for ele in A:\n",
        "  if ele in digits:\n",
        "    A=A.replace(ele,K)\n",
        "print(\"The resultant String: \" +str(A))\n"
      ],
      "metadata": {
        "colab": {
          "base_uri": "https://localhost:8080/"
        },
        "id": "qhW5L8RNYYhq",
        "outputId": "f024ce78-f8cc-4e81-9cee-85eaa47bdc6b"
      },
      "execution_count": null,
      "outputs": [
        {
          "output_type": "stream",
          "name": "stdout",
          "text": [
            "The original value:#2a$#b%c%561#\n",
            "The resultant String: ##a$#b%c%####\n"
          ]
        }
      ]
    },
    {
      "cell_type": "code",
      "source": [
        "import re\n",
        "def replace_digits_and_remove_all_non_digits(str):\n",
        "    replacements = [\n",
        "        ('\\D', '',),\n",
        "        ('\\d', '#'),\n",
        "    ]\n",
        "    for old, new in replacements:\n",
        "        str = re.sub(old, new, str)\n",
        "    return str\n",
        "s1 = \"234\"\n",
        "s2 = \"a2b3c4\"\n",
        "s3 = 'abc'\n",
        "s4 = '#2a$#b%c%561#'\n",
        "print(replace_digits_and_remove_all_non_digits(s1))\n",
        "print(replace_digits_and_remove_all_non_digits(s2))\n",
        "print(replace_digits_and_remove_all_non_digits(s3))\n",
        "print(replace_digits_and_remove_all_non_digits(s4))"
      ],
      "metadata": {
        "id": "ieDlnXGhykhe"
      },
      "execution_count": null,
      "outputs": []
    },
    {
      "cell_type": "markdown",
      "metadata": {
        "id": "9OBpURbNB-k9"
      },
      "source": [
        "<h3> Q3: Filling the missing values in the specified formate</h3>\n",
        "You will be given a string with digits and '\\_'(missing value) symbols you have to replace the '\\_' symbols as explained \n",
        "<pre>\n",
        "Ex 1: _, _, _, 24 ==> 24/4, 24/4, 24/4, 24/4 i.e we. have distributed the 24 equally to all 4 places <br>\n",
        "Ex 2: 40, _, _, _, 60 ==> (60+40)/5,(60+40)/5,(60+40)/5,(60+40)/5,(60+40)/5 ==> 20, 20, 20, 20, 20 i.e. the sum of (60+40) is distributed qually to all 5 places<br>\n",
        "Ex 3: 80, _, _, _, _  ==> 80/5,80/5,80/5,80/5,80/5 ==> 16, 16, 16, 16, 16 i.e. the 80 is distributed qually to all 5 missing values that are right to it<br>\n",
        "Ex 4: _, _, 30, _, _, _, 50, _, _  \n",
        "==> we will fill the missing values from left to right \n",
        "    a. first we will distribute the 30 to left two missing values (10, 10, 10, _, _, _, 50, _, _)\n",
        "    b. now distribute the sum (10+50) missing values in between (10, 10, 12, 12, 12, 12, 12, _, _) \n",
        "    c. now we will distribute 12 to right side missing values (10, 10, 12, 12, 12, 12, 4, 4, 4)\n",
        "</pre>\n",
        "for a given string with comma seprate values, which will have both missing values numbers like ex: \"_, _, x, _, _, _\"\n",
        "you need fill the missing values\n",
        "\n",
        "Q: your program reads a string like ex: \"_, _, x, _, _, _\" and returns the filled sequence\n",
        "\n",
        "Ex: \n",
        "<pre>\n",
        "Input1: \"_,_,_,24\"\n",
        "Output1: 6,6,6,6\n",
        "\n",
        "Input2: \"40,_,_,_,60\"\n",
        "Output2: 20,20,20,20,20\n",
        "\n",
        "Input3: \"80,_,_,_,_\"\n",
        "Output3: 16,16,16,16,16\n",
        "\n",
        "Input4: \"_,_,30,_,_,_,50,_,_\"\n",
        "Output4: 10,10,12,12,12,12,4,4,4\n",
        "\n",
        "</pre>\n",
        "\n"
      ]
    },
    {
      "cell_type": "code",
      "execution_count": null,
      "metadata": {
        "id": "nZmpzHs_B-k-"
      },
      "outputs": [],
      "source": [
        "# write your python code here\n",
        "# you can take the above example as sample input for your program to test\n",
        "# it should work for any general input try not to hard code for only given input strings\n",
        "#run your code in the function for each of the inputs mentioned above and make sure that you get the same results\n",
        "\n",
        "# you can free to change all these codes/structure\n",
        "def curve_smoothing(string):\n",
        "    # your code\n",
        "    return #list of values\n",
        "\n"
      ]
    },
    {
      "cell_type": "code",
      "source": [
        "def curve_smoothing(string):\n",
        "    index_of_non_empty_cells_list = []\n",
        "    split_string = string.split(',')\n",
        "    for idx in range(len(split_string)):\n",
        "        if split_string[idx] != '_':\n",
        "            index_of_non_empty_cells_list.append(idx)\n",
        "    index_of_non_empty_cells_list.append(len(split_string) - 1)\n",
        "\n",
        "    print(index_of_non_empty_cells_list)\n",
        "    position_to_start = 0\n",
        "\n",
        "    for element in index_of_non_empty_cells_list:\n",
        "        cumulative_sum_prev_and_next_value = int(split_string[element]) if split_string[element] != '_' else 0\n",
        "        cumulative_sum_prev_and_next_value += int(split_string[position_to_start]) if split_string[position_to_start] != '_' and position_to_start != element else 0\n",
        "        integer_to_replace_each_previous_empty_cell = cumulative_sum_prev_and_next_value // (\n",
        "                element - position_to_start + 1)\n",
        "        split_string = [\n",
        "            integer_to_replace_each_previous_empty_cell if position_to_start <= x <= element else split_string[x] for x\n",
        "            in range(len(split_string))]\n",
        "        position_to_start = element\n",
        "    return split_string\n",
        "S = \"80,_,_,_,_\"\n",
        "ans = smoothed_values = curve_smoothing(S)\n",
        "print(ans)"
      ],
      "metadata": {
        "id": "QcjAtOOAzcBZ",
        "outputId": "7332be4c-ecc7-42d0-91c9-8dfe3ba97356",
        "colab": {
          "base_uri": "https://localhost:8080/"
        }
      },
      "execution_count": 11,
      "outputs": [
        {
          "output_type": "stream",
          "name": "stdout",
          "text": [
            "[0, 4]\n",
            "[16, 16, 16, 16, 16]\n"
          ]
        }
      ]
    },
    {
      "cell_type": "markdown",
      "metadata": {
        "id": "n4HS87QmB-lF"
      },
      "source": [
        "<h3> Q4: Given two sentances S1, S2</h3>\n",
        "You will be given two sentances S1, S2 your task is to find \n",
        "<pre>\n",
        "a. Number of common words between S1, S2\n",
        "b. Words in S1 but not in S2\n",
        "c. Words in S2 but not in S1\n",
        "</pre>\n",
        "\n",
        "Ex: \n",
        "<pre>\n",
        "S1= \"the first column F will contain only 5 uniques values\"\n",
        "S2= \"the second column S will contain only 3 uniques values\"\n",
        "Output:\n",
        "a. 7\n",
        "b. ['first','F','5']\n",
        "c. ['second','S','3']\n",
        "</pre>"
      ]
    },
    {
      "cell_type": "code",
      "execution_count": null,
      "metadata": {
        "id": "Ez7hlHK0B-lG",
        "colab": {
          "base_uri": "https://localhost:8080/"
        },
        "outputId": "e06ebf1b-b2d8-4068-8349-dc3115883e52"
      },
      "outputs": [
        {
          "output_type": "stream",
          "name": "stdout",
          "text": [
            "7\n"
          ]
        }
      ],
      "source": [
        "class Solution:\n",
        "   def solve(self, s0, s1):\n",
        "      s0 = s0.lower()\n",
        "      s1 = s1.lower()\n",
        "      s0List = s0.split(\" \")\n",
        "      s1List = s1.split(\" \")\n",
        "      return len(list(set(s0List)&set(s1List)))\n",
        "ob = Solution()\n",
        "S1 = \"the first column F will contain only 5 uniques values\"\n",
        "S2 = \"the second column S will contain only 3 uniques values\"\n",
        "print(ob.solve(S1,S2))\n"
      ]
    },
    {
      "cell_type": "code",
      "source": [
        "def UncommonWords(A, B):\n",
        "  A=A.split()\n",
        "  B=B.split()\n",
        "  x=[]\n",
        "  for i in A:\n",
        "    if i not in B:\n",
        "      x.append(i)\n",
        "      for i in B:\n",
        "        if i not in A:\n",
        "          x.append(i)\n",
        "          x=list(set(x))\n",
        "          return x\n",
        "# Driver Code\n",
        "A = \"the first column F will contain only 5 uniques values\"\n",
        "B = \"the second column S will contain only 3 uniques values\"\n",
        "# Print required answer\n",
        "print(UncommonWords(A, B))\n"
      ],
      "metadata": {
        "id": "0vEhNa6UkhCs",
        "colab": {
          "base_uri": "https://localhost:8080/"
        },
        "outputId": "95f2336e-8f8c-4659-ceb0-f01f38dec72b"
      },
      "execution_count": null,
      "outputs": [
        {
          "output_type": "stream",
          "name": "stdout",
          "text": [
            "['second', 'first']\n"
          ]
        }
      ]
    },
    {
      "cell_type": "code",
      "source": [],
      "metadata": {
        "id": "xZpADWDY6xT6"
      },
      "execution_count": null,
      "outputs": []
    }
  ],
  "metadata": {
    "colab": {
      "provenance": [],
      "include_colab_link": true
    },
    "kernelspec": {
      "display_name": "Python 3",
      "language": "python",
      "name": "python3"
    },
    "language_info": {
      "codemirror_mode": {
        "name": "ipython",
        "version": 3
      },
      "file_extension": ".py",
      "mimetype": "text/x-python",
      "name": "python",
      "nbconvert_exporter": "python",
      "pygments_lexer": "ipython3",
      "version": "3.6.3"
    }
  },
  "nbformat": 4,
  "nbformat_minor": 0
}